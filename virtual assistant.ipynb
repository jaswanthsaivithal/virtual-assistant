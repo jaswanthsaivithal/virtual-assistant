{
 "cells": [
  {
   "cell_type": "code",
   "execution_count": 1,
   "id": "d356220c-5578-46d3-aaea-553c780bcb79",
   "metadata": {},
   "outputs": [],
   "source": [
    "import numpy as np"
   ]
  },
  {
   "cell_type": "code",
   "execution_count": 2,
   "id": "bd5dec88-04d2-4b3f-864b-e7703dd4c0c9",
   "metadata": {},
   "outputs": [],
   "source": [
    "from lingualytics.preprocessing import remove_lessthan, remove_punctuation, remove_stopwords\n",
    "from lingualytics.stopwords import hi_stopwords,en_stopwords\n",
    "from texthero.preprocessing import remove_digits\n",
    "import pandas as pd"
   ]
  },
  {
   "cell_type": "code",
   "execution_count": 3,
   "id": "555dd1be-9b80-4856-ab06-c21795834e2a",
   "metadata": {},
   "outputs": [],
   "source": [
    "DATASET = r\"D:\\DOCUMENTS\\faq-virtual-agent-main\\faqs.csv\""
   ]
  },
  {
   "cell_type": "code",
   "execution_count": 4,
   "id": "bedf4dac-bfe4-4bbe-b802-d320525da35a",
   "metadata": {
    "scrolled": true
   },
   "outputs": [
    {
     "data": {
      "text/html": [
       "<div>\n",
       "<style scoped>\n",
       "    .dataframe tbody tr th:only-of-type {\n",
       "        vertical-align: middle;\n",
       "    }\n",
       "\n",
       "    .dataframe tbody tr th {\n",
       "        vertical-align: top;\n",
       "    }\n",
       "\n",
       "    .dataframe thead th {\n",
       "        text-align: right;\n",
       "    }\n",
       "</style>\n",
       "<table border=\"1\" class=\"dataframe\">\n",
       "  <thead>\n",
       "    <tr style=\"text-align: right;\">\n",
       "      <th></th>\n",
       "      <th>Q</th>\n",
       "      <th>A</th>\n",
       "    </tr>\n",
       "  </thead>\n",
       "  <tbody>\n",
       "    <tr>\n",
       "      <th>0</th>\n",
       "      <td>What is kandi?</td>\n",
       "      <td>kandi (pronounced kandee) is a platform that h...</td>\n",
       "    </tr>\n",
       "    <tr>\n",
       "      <th>1</th>\n",
       "      <td>Have feedback or want to know more?</td>\n",
       "      <td>We are a passionate set of application focused...</td>\n",
       "    </tr>\n",
       "    <tr>\n",
       "      <th>2</th>\n",
       "      <td>What components does kandi cover?</td>\n",
       "      <td>kandi helps you select software components acr...</td>\n",
       "    </tr>\n",
       "    <tr>\n",
       "      <th>3</th>\n",
       "      <td>How do I use kandi?</td>\n",
       "      <td>kandi provides two simplified experiences to h...</td>\n",
       "    </tr>\n",
       "    <tr>\n",
       "      <th>4</th>\n",
       "      <td>How do I shortlist components on kandi?</td>\n",
       "      <td>You can use the below filters to shortlist com...</td>\n",
       "    </tr>\n",
       "    <tr>\n",
       "      <th>5</th>\n",
       "      <td>How do I implement the components that I have ...</td>\n",
       "      <td>The component listing and detailed insights pa...</td>\n",
       "    </tr>\n",
       "  </tbody>\n",
       "</table>\n",
       "</div>"
      ],
      "text/plain": [
       "                                                   Q  \\\n",
       "0                                     What is kandi?   \n",
       "1                Have feedback or want to know more?   \n",
       "2                  What components does kandi cover?   \n",
       "3                                How do I use kandi?   \n",
       "4            How do I shortlist components on kandi?   \n",
       "5  How do I implement the components that I have ...   \n",
       "\n",
       "                                                   A  \n",
       "0  kandi (pronounced kandee) is a platform that h...  \n",
       "1  We are a passionate set of application focused...  \n",
       "2  kandi helps you select software components acr...  \n",
       "3  kandi provides two simplified experiences to h...  \n",
       "4  You can use the below filters to shortlist com...  \n",
       "5  The component listing and detailed insights pa...  "
      ]
     },
     "execution_count": 4,
     "metadata": {},
     "output_type": "execute_result"
    }
   ],
   "source": [
    "df = pd.read_csv(DATASET)\n",
    "df\n"
   ]
  },
  {
   "cell_type": "code",
   "execution_count": 5,
   "id": "2f264e3c-5e0d-40a7-ab77-9f0a73899645",
   "metadata": {
    "scrolled": true
   },
   "outputs": [
    {
     "name": "stderr",
     "output_type": "stream",
     "text": [
      "C:\\Users\\jaswa\\anaconda3\\lib\\site-packages\\lingualytics\\preprocessing.py:9: FutureWarning: The default value of regex will change from True to False in a future version.\n",
      "  return s.str.replace(rf\"([{punctuation}])+\", \" \")\n"
     ]
    },
    {
     "data": {
      "text/html": [
       "<div>\n",
       "<style scoped>\n",
       "    .dataframe tbody tr th:only-of-type {\n",
       "        vertical-align: middle;\n",
       "    }\n",
       "\n",
       "    .dataframe tbody tr th {\n",
       "        vertical-align: top;\n",
       "    }\n",
       "\n",
       "    .dataframe thead th {\n",
       "        text-align: right;\n",
       "    }\n",
       "</style>\n",
       "<table border=\"1\" class=\"dataframe\">\n",
       "  <thead>\n",
       "    <tr style=\"text-align: right;\">\n",
       "      <th></th>\n",
       "      <th>Q</th>\n",
       "      <th>A</th>\n",
       "      <th>clean_Q</th>\n",
       "    </tr>\n",
       "  </thead>\n",
       "  <tbody>\n",
       "    <tr>\n",
       "      <th>0</th>\n",
       "      <td>What is kandi?</td>\n",
       "      <td>kandi (pronounced kandee) is a platform that h...</td>\n",
       "      <td>What is kandi</td>\n",
       "    </tr>\n",
       "    <tr>\n",
       "      <th>1</th>\n",
       "      <td>Have feedback or want to know more?</td>\n",
       "      <td>We are a passionate set of application focused...</td>\n",
       "      <td>Have feedback or want to know more</td>\n",
       "    </tr>\n",
       "    <tr>\n",
       "      <th>2</th>\n",
       "      <td>What components does kandi cover?</td>\n",
       "      <td>kandi helps you select software components acr...</td>\n",
       "      <td>What components does kandi cover</td>\n",
       "    </tr>\n",
       "    <tr>\n",
       "      <th>3</th>\n",
       "      <td>How do I use kandi?</td>\n",
       "      <td>kandi provides two simplified experiences to h...</td>\n",
       "      <td>How do I use kandi</td>\n",
       "    </tr>\n",
       "    <tr>\n",
       "      <th>4</th>\n",
       "      <td>How do I shortlist components on kandi?</td>\n",
       "      <td>You can use the below filters to shortlist com...</td>\n",
       "      <td>How do I shortlist components on kandi</td>\n",
       "    </tr>\n",
       "    <tr>\n",
       "      <th>5</th>\n",
       "      <td>How do I implement the components that I have ...</td>\n",
       "      <td>The component listing and detailed insights pa...</td>\n",
       "      <td>How do I implement the components that I have ...</td>\n",
       "    </tr>\n",
       "  </tbody>\n",
       "</table>\n",
       "</div>"
      ],
      "text/plain": [
       "                                                   Q  \\\n",
       "0                                     What is kandi?   \n",
       "1                Have feedback or want to know more?   \n",
       "2                  What components does kandi cover?   \n",
       "3                                How do I use kandi?   \n",
       "4            How do I shortlist components on kandi?   \n",
       "5  How do I implement the components that I have ...   \n",
       "\n",
       "                                                   A  \\\n",
       "0  kandi (pronounced kandee) is a platform that h...   \n",
       "1  We are a passionate set of application focused...   \n",
       "2  kandi helps you select software components acr...   \n",
       "3  kandi provides two simplified experiences to h...   \n",
       "4  You can use the below filters to shortlist com...   \n",
       "5  The component listing and detailed insights pa...   \n",
       "\n",
       "                                             clean_Q  \n",
       "0                                     What is kandi   \n",
       "1                Have feedback or want to know more   \n",
       "2                  What components does kandi cover   \n",
       "3                                How do I use kandi   \n",
       "4            How do I shortlist components on kandi   \n",
       "5  How do I implement the components that I have ...  "
      ]
     },
     "execution_count": 5,
     "metadata": {},
     "output_type": "execute_result"
    }
   ],
   "source": [
    "# pd.set_option('display.max_colwidth', None)\n",
    "df['clean_Q'] = df['Q'].pipe(remove_digits) \\\n",
    "                                    .pipe(remove_punctuation) \\\n",
    "#                                    .pipe(remove_lessthan,length=3) \\\n",
    "#                                    .pipe(remove_stopwords,stopwords=en_stopwords.union(hi_stopwords))\n",
    "df"
   ]
  },
  {
   "cell_type": "code",
   "execution_count": 6,
   "id": "63d1f6a5",
   "metadata": {},
   "outputs": [],
   "source": [
    "from sentence_transformers import SentenceTransformer\n",
    "model = SentenceTransformer('paraphrase-MiniLM-L6-v2')"
   ]
  },
  {
   "cell_type": "code",
   "execution_count": 7,
   "id": "59f6048d",
   "metadata": {},
   "outputs": [
    {
     "name": "stderr",
     "output_type": "stream",
     "text": [
      "C:\\Users\\jaswa\\anaconda3\\lib\\site-packages\\transformers\\tokenization_utils_base.py:2227: UserWarning: `max_length` is ignored when `padding`=`True`.\n",
      "  warnings.warn(\"`max_length` is ignored when `padding`=`True`.\")\n"
     ]
    }
   ],
   "source": [
    "q_embs = model.encode(df['clean_Q'], convert_to_tensor=True)"
   ]
  },
  {
   "cell_type": "code",
   "execution_count": 8,
   "id": "caf3e9c7",
   "metadata": {},
   "outputs": [
    {
     "data": {
      "text/plain": [
       "torch.Size([6, 384])"
      ]
     },
     "execution_count": 8,
     "metadata": {},
     "output_type": "execute_result"
    }
   ],
   "source": [
    "q_embs.shape"
   ]
  },
  {
   "cell_type": "code",
   "execution_count": 9,
   "id": "b918a7e4",
   "metadata": {},
   "outputs": [],
   "source": [
    "usr_query = \"tell me about kandi?\""
   ]
  },
  {
   "cell_type": "code",
   "execution_count": 10,
   "id": "fcb5d2e2",
   "metadata": {},
   "outputs": [
    {
     "data": {
      "text/html": [
       "<div>\n",
       "<style scoped>\n",
       "    .dataframe tbody tr th:only-of-type {\n",
       "        vertical-align: middle;\n",
       "    }\n",
       "\n",
       "    .dataframe tbody tr th {\n",
       "        vertical-align: top;\n",
       "    }\n",
       "\n",
       "    .dataframe thead th {\n",
       "        text-align: right;\n",
       "    }\n",
       "</style>\n",
       "<table border=\"1\" class=\"dataframe\">\n",
       "  <thead>\n",
       "    <tr style=\"text-align: right;\">\n",
       "      <th></th>\n",
       "      <th>usr_query</th>\n",
       "    </tr>\n",
       "  </thead>\n",
       "  <tbody>\n",
       "    <tr>\n",
       "      <th>0</th>\n",
       "      <td>tell me about kandi?</td>\n",
       "    </tr>\n",
       "  </tbody>\n",
       "</table>\n",
       "</div>"
      ],
      "text/plain": [
       "              usr_query\n",
       "0  tell me about kandi?"
      ]
     },
     "execution_count": 10,
     "metadata": {},
     "output_type": "execute_result"
    }
   ],
   "source": [
    "df_usr_query = pd.DataFrame([usr_query], columns=[\"usr_query\"])\n",
    "df_usr_query"
   ]
  },
  {
   "cell_type": "code",
   "execution_count": 11,
   "id": "8aa438f9",
   "metadata": {},
   "outputs": [
    {
     "name": "stderr",
     "output_type": "stream",
     "text": [
      "C:\\Users\\jaswa\\anaconda3\\lib\\site-packages\\lingualytics\\preprocessing.py:9: FutureWarning: The default value of regex will change from True to False in a future version.\n",
      "  return s.str.replace(rf\"([{punctuation}])+\", \" \")\n"
     ]
    },
    {
     "data": {
      "text/html": [
       "<div>\n",
       "<style scoped>\n",
       "    .dataframe tbody tr th:only-of-type {\n",
       "        vertical-align: middle;\n",
       "    }\n",
       "\n",
       "    .dataframe tbody tr th {\n",
       "        vertical-align: top;\n",
       "    }\n",
       "\n",
       "    .dataframe thead th {\n",
       "        text-align: right;\n",
       "    }\n",
       "</style>\n",
       "<table border=\"1\" class=\"dataframe\">\n",
       "  <thead>\n",
       "    <tr style=\"text-align: right;\">\n",
       "      <th></th>\n",
       "      <th>usr_query</th>\n",
       "      <th>clean_usr_Q</th>\n",
       "    </tr>\n",
       "  </thead>\n",
       "  <tbody>\n",
       "    <tr>\n",
       "      <th>0</th>\n",
       "      <td>tell me about kandi?</td>\n",
       "      <td>tell me about kandi</td>\n",
       "    </tr>\n",
       "  </tbody>\n",
       "</table>\n",
       "</div>"
      ],
      "text/plain": [
       "              usr_query           clean_usr_Q\n",
       "0  tell me about kandi?  tell me about kandi "
      ]
     },
     "execution_count": 11,
     "metadata": {},
     "output_type": "execute_result"
    }
   ],
   "source": [
    "df_usr_query['clean_usr_Q'] = df_usr_query['usr_query'].pipe(remove_digits) \\\n",
    "                                    .pipe(remove_punctuation)\n",
    "df_usr_query"
   ]
  },
  {
   "cell_type": "code",
   "execution_count": 12,
   "id": "0819ba5f",
   "metadata": {},
   "outputs": [
    {
     "name": "stderr",
     "output_type": "stream",
     "text": [
      "C:\\Users\\jaswa\\anaconda3\\lib\\site-packages\\transformers\\tokenization_utils_base.py:2227: UserWarning: `max_length` is ignored when `padding`=`True`.\n",
      "  warnings.warn(\"`max_length` is ignored when `padding`=`True`.\")\n"
     ]
    },
    {
     "data": {
      "text/plain": [
       "torch.Size([1, 384])"
      ]
     },
     "execution_count": 12,
     "metadata": {},
     "output_type": "execute_result"
    }
   ],
   "source": [
    "usr_q_emb = model.encode(df_usr_query['clean_usr_Q'], convert_to_tensor=True)\n",
    "usr_q_emb.shape"
   ]
  },
  {
   "cell_type": "code",
   "execution_count": 13,
   "id": "356a7658",
   "metadata": {},
   "outputs": [
    {
     "data": {
      "text/plain": [
       "tensor([[ 0.2014,  0.3499, -0.4456, -0.5973, -0.3234, -0.2091,  0.6431,  0.4012,\n",
       "         -0.1202,  0.4589,  0.5733, -0.8320, -0.0467, -0.4634,  0.1831, -0.8133,\n",
       "          0.1204, -0.1574, -0.2324, -0.3424,  0.1234,  0.7537,  0.4026, -0.1467,\n",
       "          0.0680, -0.0586,  0.7823,  0.1323, -0.0167, -0.5083, -0.0806,  0.2821,\n",
       "         -0.0444, -0.1481,  0.3830,  0.5527, -0.2032,  0.0954, -0.3822, -0.4040,\n",
       "          0.4833, -0.4490,  0.0834, -0.0017,  0.2304,  0.0032, -0.4206, -0.4436,\n",
       "         -0.3475,  0.2036, -0.0677, -0.1146,  0.9707,  0.0749,  0.4746, -0.5553,\n",
       "          0.1421,  0.9708,  0.2575, -0.3171,  0.1675, -0.0162, -0.2684,  0.5456,\n",
       "          0.2091, -0.7014,  0.1628,  0.1007, -0.1575, -0.8526,  0.0253, -0.2285,\n",
       "         -0.0116,  0.0445, -0.4219, -0.1486, -0.3311, -0.2833, -0.2604, -0.6911,\n",
       "          0.0506,  0.6993, -0.2380, -0.4244, -0.1133,  0.3774,  0.2479, -0.3001,\n",
       "          0.0999, -0.2378,  0.3417,  0.3603, -0.0207,  0.4266, -0.2073, -0.2826,\n",
       "          0.0976, -0.2696, -0.1412,  0.1132,  0.2423,  0.4473,  0.0945, -0.2400,\n",
       "         -0.5607, -0.0494,  0.2156, -0.0756,  0.3088,  0.1866, -0.1832,  0.1868,\n",
       "         -0.3034,  0.0055,  0.9299,  0.2974,  0.2013,  0.1640,  0.0370,  0.3332,\n",
       "         -0.1483, -0.1683, -0.4812,  0.3730, -0.3757, -0.4948, -0.0257,  0.4617,\n",
       "         -0.1644,  0.0043,  0.0738, -0.0971, -0.0950, -0.4077, -0.0991, -0.4380,\n",
       "         -0.6133,  0.0378, -0.0509,  0.1488, -0.3883, -0.7101,  0.0873, -0.4985,\n",
       "         -0.2302,  0.0929,  0.2807,  0.0019,  0.0731,  0.9560, -0.1436, -0.4177,\n",
       "          0.3443, -0.4556,  0.1869, -0.6800,  0.7659,  0.5922,  0.2484, -0.1141,\n",
       "         -0.6604, -0.1915, -0.3595,  0.3958, -0.1498, -0.6337, -0.4731, -0.1660,\n",
       "         -0.1546, -0.3477, -0.2171,  0.3314, -0.4621, -0.0594,  0.4686, -0.0265,\n",
       "          0.3511,  0.1282,  0.0165, -0.0036, -0.5843, -0.1146,  0.0619,  0.7254,\n",
       "         -0.0369,  0.0973,  0.0735,  0.3406, -0.3309, -0.3321,  0.0312, -0.1873,\n",
       "         -0.6998, -0.5721,  0.0806, -0.7261,  0.0631, -0.3787, -0.6562, -0.1849,\n",
       "         -0.2408,  0.1693,  0.0896, -0.4448,  0.1244,  0.1499, -0.4468,  0.8268,\n",
       "         -0.5658,  0.7379,  0.0223,  0.1893,  0.8383, -0.3835,  0.1944,  0.1234,\n",
       "          0.0198,  0.3978,  0.5715,  0.1312,  0.0902, -0.7885,  0.1969, -0.1974,\n",
       "         -0.0625,  0.0458, -0.5970,  0.4262,  0.4103, -0.0950, -0.0630,  0.3529,\n",
       "          0.0489, -0.7463, -0.3250,  0.2004,  0.3097,  0.1151,  0.7180, -0.1893,\n",
       "          0.2293,  0.1601,  0.1594,  0.0965, -0.1403,  0.0906, -0.8075, -0.0031,\n",
       "         -0.3810,  0.4368, -0.8706,  0.3083, -0.6801,  0.0514,  0.5901, -0.4602,\n",
       "         -0.8122,  0.3143, -0.5272, -0.3490,  0.2269, -0.6661, -0.2003,  0.2286,\n",
       "          0.1218, -0.6063, -0.3197,  0.3174, -0.5972, -0.3443,  0.4948, -0.3553,\n",
       "          0.2869, -0.0995,  0.4673,  0.0539, -0.2312, -0.5346,  0.3666,  0.1554,\n",
       "          0.1897, -0.3283, -0.0710, -0.1656,  0.0199,  0.4263,  0.3795,  0.5706,\n",
       "         -0.3732,  0.0894,  0.6571,  0.1528,  0.0602, -0.5494, -0.0490, -0.0423,\n",
       "          0.1249,  0.2677,  0.0832, -0.0247, -0.2918,  0.7382,  0.7249,  0.4363,\n",
       "         -0.4345, -0.2792, -0.3828, -0.1089,  0.8925,  0.6610,  0.2940, -0.2208,\n",
       "          0.6230, -0.1165,  0.3306,  0.1945, -0.0088, -0.2356,  0.0359,  0.0604,\n",
       "          0.0925, -0.2368, -0.1828,  0.2059,  0.0469, -0.1218,  0.2368, -0.4840,\n",
       "         -0.3920,  0.4863, -0.0575, -0.2940, -0.2216,  0.1326,  0.8676,  0.0175,\n",
       "          0.8321,  0.0957, -0.6020, -0.3551,  0.1938,  0.4517,  0.4835, -0.1303,\n",
       "         -0.1118,  0.9419,  0.2591, -0.0955,  0.2815, -0.3938,  0.2515,  0.6164,\n",
       "         -0.7193, -0.3993, -0.0180,  0.0663, -0.0661, -0.0144, -0.1048,  0.5582,\n",
       "          0.1766,  0.0569,  0.3335,  0.8380, -0.1864,  0.7964, -0.0762, -0.0920,\n",
       "         -0.4441, -0.5692, -0.7547,  0.1361,  0.2464,  0.5855,  0.4378,  0.6967,\n",
       "          0.3142,  0.0129, -0.4225,  0.2084,  0.0438,  0.1608, -0.3177,  0.1421]])"
      ]
     },
     "execution_count": 13,
     "metadata": {},
     "output_type": "execute_result"
    }
   ],
   "source": [
    "usr_q_emb"
   ]
  },
  {
   "cell_type": "code",
   "execution_count": 14,
   "id": "4b1f74a8",
   "metadata": {},
   "outputs": [],
   "source": [
    "import torch"
   ]
  },
  {
   "cell_type": "code",
   "execution_count": 15,
   "id": "d1c3fa44",
   "metadata": {},
   "outputs": [],
   "source": [
    "cos_fn = torch.nn.CosineSimilarity(dim=1, eps=1e-6)"
   ]
  },
  {
   "cell_type": "code",
   "execution_count": 16,
   "id": "1d119eb2",
   "metadata": {},
   "outputs": [],
   "source": [
    "idx = np.argmax(cos_fn(usr_q_emb, q_embs)).item()"
   ]
  },
  {
   "cell_type": "code",
   "execution_count": 17,
   "id": "715c30cf",
   "metadata": {},
   "outputs": [
    {
     "data": {
      "text/plain": [
       "'kandi (pronounced kandee) is a platform that helps developers pick the right library, package, code samples, APIs, and cloud functions, by analyzing over 430 million knowledge items.'"
      ]
     },
     "execution_count": 17,
     "metadata": {},
     "output_type": "execute_result"
    }
   ],
   "source": [
    "df['A'][idx]"
   ]
  },
  {
   "cell_type": "code",
   "execution_count": 18,
   "id": "bff5a6b9",
   "metadata": {},
   "outputs": [],
   "source": [
    "def pred_answer(usr_query):\n",
    "    df_usr_query = pd.DataFrame([usr_query], columns=[\"usr_query\"])\n",
    "    df_usr_query['clean_usr_Q'] = df_usr_query['usr_query'].pipe(remove_digits) \\\n",
    "                                    .pipe(remove_punctuation)\n",
    "    usr_q_emb = model.encode(df_usr_query['clean_usr_Q'], convert_to_tensor=True)\n",
    "    cos_fn = torch.nn.CosineSimilarity(dim=1, eps=1e-6)\n",
    "    idx = np.argmax(cos_fn(usr_q_emb, q_embs)).item()\n",
    "    return df['A'][idx]\n",
    "    "
   ]
  },
  {
   "cell_type": "code",
   "execution_count": null,
   "id": "d53ea80a",
   "metadata": {},
   "outputs": [],
   "source": [
    "while True:\n",
    "    input(\"Ask a query: \")\n",
    "    if usr_query == \"exit\":\n",
    "        break\n",
    "    else:\n",
    "        print(pred_answer(usr_query))\n",
    "        print(\"------------\")"
   ]
  },
  {
   "cell_type": "code",
   "execution_count": null,
   "id": "16e92fde",
   "metadata": {},
   "outputs": [],
   "source": []
  },
  {
   "cell_type": "code",
   "execution_count": null,
   "id": "18bf5501",
   "metadata": {},
   "outputs": [],
   "source": []
  }
 ],
 "metadata": {
  "kernelspec": {
   "display_name": "Python 3",
   "language": "python",
   "name": "python3"
  },
  "language_info": {
   "codemirror_mode": {
    "name": "ipython",
    "version": 3
   },
   "file_extension": ".py",
   "mimetype": "text/x-python",
   "name": "python",
   "nbconvert_exporter": "python",
   "pygments_lexer": "ipython3",
   "version": "3.8.8"
  }
 },
 "nbformat": 4,
 "nbformat_minor": 5
}
